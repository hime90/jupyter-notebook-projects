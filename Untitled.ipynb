{
 "cells": [
  {
   "cell_type": "code",
   "execution_count": null,
   "metadata": {},
   "outputs": [],
   "source": [
    "# https://en.wikipedia.org/wiki/Sieve_of_Eratosthenes\n",
    "from math import sqrt\n",
    "from time import time\n",
    "\n",
    "def is_prime(n):\n",
    "    if n < 2: return False \n",
    "    for i in range(2,int(sqrt(n))+1):\n",
    "        if n % i == 0:\n",
    "            return False\n",
    "    return True\n",
    "\n",
    "def prime_numbers(n):\n",
    "    #start_time = time()\n",
    "    prime_array = [2] # initialize prime array\n",
    "    \n",
    "    for i in range (3,(n+1),2): # create an array of numbers from 3 up to n\n",
    "        if is_prime(i):\n",
    "            prime_array.append(i)\n",
    "            \n",
    "    #end_time = time()\n",
    "    return prime_array\n",
    "    \n",
    "def prime_factorization(x):\n",
    "    start_time = time()\n",
    "    divisor = 2\n",
    "    prime_factors = []\n",
    "    while x > 1:\n",
    "        #print(x)\n",
    "        if is_prime(divisor) and x % divisor == 0:\n",
    "            x = x // divisor\n",
    "            if divisor not in prime_factors:\n",
    "                prime_factors.append(divisor)\n",
    "        else:\n",
    "            divisor += 1\n",
    "    else:\n",
    "        divisor += 1\n",
    "    end_time = time()\n",
    "    return prime_factors, f'{(end_time-start_time):.6f}s'\n",
    "    "
   ]
  }
 ],
 "metadata": {
  "kernelspec": {
   "display_name": "Python 3",
   "language": "python",
   "name": "python3"
  },
  "language_info": {
   "codemirror_mode": {
    "name": "ipython",
    "version": 3
   },
   "file_extension": ".py",
   "mimetype": "text/x-python",
   "name": "python",
   "nbconvert_exporter": "python",
   "pygments_lexer": "ipython3",
   "version": "3.7.6"
  }
 },
 "nbformat": 4,
 "nbformat_minor": 4
}
