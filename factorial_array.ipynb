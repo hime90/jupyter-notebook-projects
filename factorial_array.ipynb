{
 "cells": [
  {
   "cell_type": "code",
   "execution_count": 2,
   "metadata": {},
   "outputs": [
    {
     "name": "stdout",
     "output_type": "stream",
     "text": [
      "Please enter a number between (1-1000): 10\n",
      "[1, 1, 2, 6, 24, 120, 720, 5040, 40320, 362880, 3628800]\n",
      "3628800\n"
     ]
    }
   ],
   "source": [
    "def factorial_array():\n",
    "    \n",
    "    while True:\n",
    "        n = int(input(\"Please enter a number between (1-1000): \"))\n",
    "        if n >= 0 and n <= 1000:\n",
    "            break\n",
    "            \n",
    "    factorial_array = [1] # initialize factorial array\n",
    "    \n",
    "    for i in range(1,n+1):\n",
    "        factorial_array.append(factorial_array[i-1]*i) # nth factorial = n * n-1\n",
    "    \n",
    "    #return (factorial_array) #return the whole factorial array of nth term\n",
    "    print(factorial_array) # print whole factorial array up to nth term\n",
    "    #return factorial_array[-1] #r eturn the value of the nth factorial\n",
    "    print(factorial_array[-1]) # print the value of the nth factorial\n",
    "\n",
    "factorial_array()"
   ]
  },
  {
   "cell_type": "code",
   "execution_count": null,
   "metadata": {},
   "outputs": [],
   "source": []
  },
  {
   "cell_type": "code",
   "execution_count": 4,
   "metadata": {},
   "outputs": [
    {
     "name": "stdout",
     "output_type": "stream",
     "text": [
      "https://en.wikipedia.org/wiki/Factorial\n"
     ]
    }
   ],
   "source": [
    "factorialwiki = 'https://en.wikipedia.org/wiki/Factorial'\n",
    "\n",
    "print(factorialwiki)"
   ]
  },
  {
   "cell_type": "code",
   "execution_count": null,
   "metadata": {},
   "outputs": [],
   "source": []
  }
 ],
 "metadata": {
  "kernelspec": {
   "display_name": "Python 3",
   "language": "python",
   "name": "python3"
  },
  "language_info": {
   "codemirror_mode": {
    "name": "ipython",
    "version": 3
   },
   "file_extension": ".py",
   "mimetype": "text/x-python",
   "name": "python",
   "nbconvert_exporter": "python",
   "pygments_lexer": "ipython3",
   "version": "3.7.6"
  }
 },
 "nbformat": 4,
 "nbformat_minor": 4
}
