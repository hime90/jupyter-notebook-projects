{
 "cells": [
  {
   "cell_type": "code",
   "execution_count": 4,
   "metadata": {},
   "outputs": [],
   "source": [
    "github = 'https://github.com/dunovank/jupyter-themes'\n",
    "# Available Themes:\n",
    "#    chesterish\n",
    "#    grade3\n",
    "#    gruvboxd\n",
    "#    gruvboxl\n",
    "#    monokai\n",
    "#    oceans16\n",
    "#    onedork\n",
    "#    solarizedd\n",
    "#    solarizedl"
   ]
  },
  {
   "cell_type": "code",
   "execution_count": 5,
   "metadata": {},
   "outputs": [],
   "source": [
    "settings = 'jt -t grade3 -f fira -fs 10 -nfs 12 -nf latosans -dfs 10 -ofs 10 -tfs 10 -cellw 88% -T -N' # light\n",
    "#settings = 'jt -t onedork -f fira -fs 10 -nfs 12 -nf latosans -dfs 10 -ofs 10 -tfs 10 -cellw 88% -T -N' # dark\n",
    "#sns.set(context='paper', style='darkgrid', rc={'figure.facecolor':'white'}, font_scale=1.2)"
   ]
  },
  {
   "cell_type": "code",
   "execution_count": 6,
   "metadata": {
    "scrolled": true
   },
   "outputs": [
    {
     "name": "stdout",
     "output_type": "stream",
     "text": [
      "https://github.com/dunovank/jupyter-themes\n",
      "\n",
      "jt -t grade3 -f fira -fs 10 -nfs 12 -nf latosans -dfs 10 -ofs 10 -tfs 10 -cellw 88% -T -N\n"
     ]
    }
   ],
   "source": [
    "print(github)\n",
    "print()\n",
    "print(settings)"
   ]
  },
  {
   "cell_type": "code",
   "execution_count": 6,
   "metadata": {},
   "outputs": [],
   "source": [
    "import matplotlib as mpl\n",
    "mpl.rcParams['figure.figsize'] = [16.0, 12.0]\n",
    "mpl.rcParams['figure.dpi'] = 80\n",
    "mpl.rcParams['savefig.dpi'] = 100"
   ]
  },
  {
   "cell_type": "code",
   "execution_count": 5,
   "metadata": {},
   "outputs": [],
   "source": []
  },
  {
   "cell_type": "code",
   "execution_count": null,
   "metadata": {},
   "outputs": [],
   "source": []
  }
 ],
 "metadata": {
  "kernelspec": {
   "display_name": "Python 3",
   "language": "python",
   "name": "python3"
  },
  "language_info": {
   "codemirror_mode": {
    "name": "ipython",
    "version": 3
   },
   "file_extension": ".py",
   "mimetype": "text/x-python",
   "name": "python",
   "nbconvert_exporter": "python",
   "pygments_lexer": "ipython3",
   "version": "3.7.6"
  }
 },
 "nbformat": 4,
 "nbformat_minor": 4
}
