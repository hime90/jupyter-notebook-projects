{
 "cells": [
  {
   "cell_type": "code",
   "execution_count": 3,
   "metadata": {},
   "outputs": [],
   "source": [
    "github = 'https://github.com/dunovank/jupyter-themes'\n",
    "# Available Themes:\n",
    "#    chesterish\n",
    "#    grade3\n",
    "#    gruvboxd\n",
    "#    gruvboxl\n",
    "#    monokai\n",
    "#    oceans16\n",
    "#    onedork\n",
    "#    solarizedd\n",
    "#    solarizedl"
   ]
  },
  {
   "cell_type": "code",
   "execution_count": 39,
   "metadata": {},
   "outputs": [],
   "source": [
    "settings = 'jt -t grade3 -f fira -fs 12 -nfs 14 -nf latosans -dfs 11 -ofs 11 -tfs 11 -cellw 88% -T -N' # light\n",
    "#settings = 'jt -t onedork -f fira -fs 12 -nfs 14 -nf latosans -dfs 11 -ofs 11 -tfs 11 -cellw 88% -T -N' # dark"
   ]
  },
  {
   "cell_type": "code",
   "execution_count": 38,
   "metadata": {
    "scrolled": true
   },
   "outputs": [
    {
     "name": "stdout",
     "output_type": "stream",
     "text": [
      "https://github.com/dunovank/jupyter-themes\n",
      "\n",
      "jt -t grade3 -f fira -fs 12 -nfs 14 -nf latosans -dfs 11 -ofs 11 -tfs 11 -cellw 88% -T -N\n"
     ]
    }
   ],
   "source": [
    "print(github)\n",
    "print()\n",
    "print(settings)"
   ]
  },
  {
   "cell_type": "code",
   "execution_count": null,
   "metadata": {},
   "outputs": [],
   "source": []
  }
 ],
 "metadata": {
  "kernelspec": {
   "display_name": "Python 3",
   "language": "python",
   "name": "python3"
  },
  "language_info": {
   "codemirror_mode": {
    "name": "ipython",
    "version": 3
   },
   "file_extension": ".py",
   "mimetype": "text/x-python",
   "name": "python",
   "nbconvert_exporter": "python",
   "pygments_lexer": "ipython3",
   "version": "3.7.6"
  }
 },
 "nbformat": 4,
 "nbformat_minor": 4
}
