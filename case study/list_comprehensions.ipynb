{
 "cells": [
  {
   "cell_type": "code",
   "execution_count": 129,
   "metadata": {},
   "outputs": [
    {
     "name": "stdout",
     "output_type": "stream",
     "text": [
      "1\n",
      "1\n",
      "1\n",
      "1\n",
      "\n",
      "[[0, 0, 0], [0, 1, 1], [1, 0, 1], [1, 1, 0], [1, 1, 1]]\n",
      "\n",
      "[[0, 0, 0], [0, 1, 1], [1, 0, 1], [1, 1, 0], [1, 1, 1]]\n"
     ]
    }
   ],
   "source": [
    "# triple nested for loops with if condition\n",
    "if __name__ == '__main__':\n",
    "    x = int(input())\n",
    "    y = int(input())\n",
    "    z = int(input())\n",
    "    n = int(input())\n",
    "\n",
    "    list_a = []\n",
    "\n",
    "    for i in range(x+1):\n",
    "        for j in range (y+1):\n",
    "            for k in range (z+1):\n",
    "                if (i+j+k) != n:\n",
    "                    list_a.append([i,j,k])\n",
    "    print(\"\")\n",
    "\n",
    "    print(list_a)\n",
    "\n",
    "    print(\"\")\n",
    "\n",
    "    print([[i,j,k] for i in range(x+1) for j in range(y+1) for k in range(z+1) if (i+j+k) != n])"
   ]
  },
  {
   "cell_type": "code",
   "execution_count": 6,
   "metadata": {},
   "outputs": [
    {
     "name": "stdout",
     "output_type": "stream",
     "text": [
      "[3, 4, 5, 6]\n",
      "\n",
      "[3, 4, 5, 6]\n"
     ]
    }
   ],
   "source": [
    "# nested for loops with ifs and else in between\n",
    "non_flat = [[1,2,3], [4,5,6], [7,8]]\n",
    "\n",
    "list_a = []\n",
    "\n",
    "for x in non_flat:\n",
    "    if len(x) >= 3:\n",
    "        for y in x:\n",
    "            if y > 2:\n",
    "                list_a.append(y)\n",
    "        \n",
    "print(list_a)\n",
    "\n",
    "print(\"\")\n",
    "\n",
    "print([y for x in non_flat if len(x) >= 3 for y in x if y > 2])"
   ]
  },
  {
   "cell_type": "code",
   "execution_count": 141,
   "metadata": {},
   "outputs": [
    {
     "name": "stdout",
     "output_type": "stream",
     "text": [
      "[3, 4, 5, 6]\n",
      "\n",
      "[3, 4, 5, 6]\n"
     ]
    }
   ],
   "source": [
    "# nested for loops with ifs and else in between\n",
    "#alternate solution\n",
    "non_flat = [[1,2,3], [4,5,6], [7,8]]\n",
    "\n",
    "list_a = []\n",
    "\n",
    "for x in non_flat:\n",
    "    if len(x) >= 3:\n",
    "        for y in x:\n",
    "            if y > 2:\n",
    "                list_a.append(y)\n",
    "        \n",
    "print(list_a)\n",
    "\n",
    "print(\"\")\n",
    "\n",
    "print([y for x in non_flat for y in x if y > 2 if len(x) >= 3])"
   ]
  },
  {
   "cell_type": "code",
   "execution_count": 143,
   "metadata": {},
   "outputs": [
    {
     "name": "stdout",
     "output_type": "stream",
     "text": [
      "[3, 4, 5, 6]\n",
      "\n",
      "[3, 4, 5, 6]\n"
     ]
    }
   ],
   "source": [
    "# nested for loops with ifs and else in between\n",
    "# alternate solution\n",
    "# alternate alternate solution\n",
    "non_flat = [[1,2,3], [4,5,6], [7,8]]\n",
    "\n",
    "list_a = []\n",
    "\n",
    "for x in non_flat:\n",
    "    if len(x) >= 3:\n",
    "        for y in x:\n",
    "            if y > 2:\n",
    "                list_a.append(y)\n",
    "        \n",
    "print(list_a)\n",
    "\n",
    "print(\"\")\n",
    "\n",
    "print([y for x in non_flat for y in x if len(x) >= 3 if y > 2])"
   ]
  },
  {
   "cell_type": "code",
   "execution_count": 152,
   "metadata": {},
   "outputs": [
    {
     "name": "stdout",
     "output_type": "stream",
     "text": [
      "[3, 4, 5, 6, 'Wee!']\n",
      "\n",
      "[3, 4, 5, 6, 'Wee!', 'Wee!']\n"
     ]
    }
   ],
   "source": [
    "# nested for loops with ifs and else in between\n",
    "# studying the behavior this \n",
    "# ***** in progress *****\n",
    "#\n",
    "# why the double wee lol?\n",
    "#\n",
    "#*************************\n",
    "non_flat = [[1,2,3], [4,5,6], [7,8]]\n",
    "\n",
    "list_a = []\n",
    "\n",
    "for x in non_flat:\n",
    "    if len(x) >= 3:\n",
    "        for y in x:\n",
    "            if y > 2:\n",
    "                list_a.append(y)\n",
    "    else:\n",
    "        list_a.append(\"Wee!\")\n",
    "        \n",
    "print(list_a)\n",
    "\n",
    "print(\"\")\n",
    "\n",
    "print([y if len(x) >= 3 else \"Wee!\" for x in non_flat for y in x if y > 2])"
   ]
  },
  {
   "cell_type": "code",
   "execution_count": null,
   "metadata": {},
   "outputs": [],
   "source": []
  },
  {
   "cell_type": "code",
   "execution_count": 144,
   "metadata": {},
   "outputs": [
    {
     "name": "stdout",
     "output_type": "stream",
     "text": [
      "['yes', 'no', 'idle', 'idle', 'idle']\n",
      "\n",
      "['yes', 'no', 'idle', 'idle', 'idle']\n"
     ]
    }
   ],
   "source": [
    "# if elif else example\n",
    "l = [1, 2, 3, 4, 5]\n",
    "\n",
    "list_a = []\n",
    "\n",
    "for values in l:\n",
    "    if values==1:\n",
    "        list_a.append('yes')\n",
    "    elif values==2:\n",
    "        list_a.append('no')\n",
    "    else:\n",
    "        list_a.append('idle')\n",
    "\n",
    "print(list_a)\n",
    "\n",
    "print(\"\")\n",
    "\n",
    "print(['yes' if v == 1 else 'no' if v == 2 else 'idle' for v in l])"
   ]
  },
  {
   "cell_type": "code",
   "execution_count": null,
   "metadata": {},
   "outputs": [],
   "source": []
  }
 ],
 "metadata": {
  "kernelspec": {
   "display_name": "Python 3",
   "language": "python",
   "name": "python3"
  },
  "language_info": {
   "codemirror_mode": {
    "name": "ipython",
    "version": 3
   },
   "file_extension": ".py",
   "mimetype": "text/x-python",
   "name": "python",
   "nbconvert_exporter": "python",
   "pygments_lexer": "ipython3",
   "version": "3.7.6"
  }
 },
 "nbformat": 4,
 "nbformat_minor": 4
}
