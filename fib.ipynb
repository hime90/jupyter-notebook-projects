{
 "cells": [
  {
   "cell_type": "code",
   "execution_count": 66,
   "metadata": {},
   "outputs": [
    {
     "name": "stdout",
     "output_type": "stream",
     "text": [
      "[0, 1, 1, 2, 3, 5, 8, 13, 21, 34]\n"
     ]
    }
   ],
   "source": [
    "# a fibo function that returns the fibo array up to the nth term\n",
    "def fibo(n):\n",
    "    \n",
    "    if n == 0: return [] # returns empty array if n == 0\n",
    "    if n == 1: return [0] # returns the first term of the fibo sequence\n",
    "    \n",
    "    fibo_arr = [0,1] #initialize fibo array with 0, 1\n",
    "    \n",
    "    for i in range(2,n):\n",
    "        fibo_arr.append(fibo_arr[i-2]+fibo_arr[i-1]) # append the sum of the two previous term\n",
    "        \n",
    "    return fibo_arr # returns the array\n",
    "\n",
    "print(fibo(10))"
   ]
  },
  {
   "cell_type": "code",
   "execution_count": 67,
   "metadata": {},
   "outputs": [
    {
     "name": "stdout",
     "output_type": "stream",
     "text": [
      "9th fibo term: 21,\n",
      "n: 34,\n",
      "10th fibo term: 34,\n",
      "Fibo number: True\n"
     ]
    }
   ],
   "source": [
    "# a fibo function that checks if number n is fibo\n",
    "def fibo2(n):\n",
    "    \n",
    "    j , k = 0 , 1 # tuple assignment\n",
    "    \n",
    "    while j + k < n: # while j + k (next fibo term) is lesser than the n value\n",
    "        \n",
    "        j, k = k, j + k # assign k to j, and j + k (next fibo term) to k\n",
    "        \n",
    "    return f'{fibo(n).index(k)+1}th fibo term: {k},\\nn: {n},\\n{fibo(n).index(j+k)+1}th fibo term: {j+k},\\nFibo number: {n == j+k}' # returns the array\n",
    "    \n",
    "print(fibo2(34))"
   ]
  },
  {
   "cell_type": "code",
   "execution_count": null,
   "metadata": {},
   "outputs": [],
   "source": []
  },
  {
   "cell_type": "code",
   "execution_count": 68,
   "metadata": {},
   "outputs": [
    {
     "name": "stdout",
     "output_type": "stream",
     "text": [
      "https://en.wikipedia.org/wiki/Fibonacci_number\n"
     ]
    }
   ],
   "source": [
    "fibwikilink = 'https://en.wikipedia.org/wiki/Fibonacci_number'\n",
    "\n",
    "print(fibwikilink)"
   ]
  },
  {
   "cell_type": "code",
   "execution_count": null,
   "metadata": {},
   "outputs": [],
   "source": []
  }
 ],
 "metadata": {
  "kernelspec": {
   "display_name": "Python 3",
   "language": "python",
   "name": "python3"
  },
  "language_info": {
   "codemirror_mode": {
    "name": "ipython",
    "version": 3
   },
   "file_extension": ".py",
   "mimetype": "text/x-python",
   "name": "python",
   "nbconvert_exporter": "python",
   "pygments_lexer": "ipython3",
   "version": "3.7.6"
  }
 },
 "nbformat": 4,
 "nbformat_minor": 4
}
