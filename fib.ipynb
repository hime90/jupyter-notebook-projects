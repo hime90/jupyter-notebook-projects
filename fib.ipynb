{
 "cells": [
  {
   "cell_type": "code",
   "execution_count": 24,
   "metadata": {},
   "outputs": [
    {
     "name": "stdout",
     "output_type": "stream",
     "text": [
      "Please enter a number between (1-1000): 5\n",
      "120\n"
     ]
    }
   ],
   "source": [
    "def fibo():\n",
    "    \n",
    "    while True:\n",
    "        n = int(input(\"Please enter a number between (1-1000): \"))\n",
    "        if n >= 0 and n <= 1000:\n",
    "            break\n",
    "            \n",
    "    fibo_array = [1] # initialize fibo array\n",
    "    \n",
    "    for i in range(1,n+1):\n",
    "        fibo_array.append(fibo_array[i-1]*i) # nth fibo = n * n-1\n",
    "    \n",
    "    #return (fibo_array) #return the whole fibo array of nth term\n",
    "    #print(fibo_array) # print whole fibo array up to nth term\n",
    "    #return fibo_array[-1] #r eturn the value of the nth fibo\n",
    "    print(fibo_array[-1]) # print the value of the nth fibo\n",
    "\n",
    "fibo()"
   ]
  },
  {
   "cell_type": "code",
   "execution_count": null,
   "metadata": {},
   "outputs": [],
   "source": []
  },
  {
   "cell_type": "code",
   "execution_count": 25,
   "metadata": {},
   "outputs": [
    {
     "name": "stdout",
     "output_type": "stream",
     "text": [
      "https://en.wikipedia.org/wiki/Fibonacci_number\n"
     ]
    }
   ],
   "source": [
    "fibowiki = 'https://en.wikipedia.org/wiki/Fibonacci_number'\n",
    "\n",
    "print(fibowiki)"
   ]
  },
  {
   "cell_type": "code",
   "execution_count": null,
   "metadata": {},
   "outputs": [],
   "source": []
  }
 ],
 "metadata": {
  "kernelspec": {
   "display_name": "Python 3",
   "language": "python",
   "name": "python3"
  },
  "language_info": {
   "codemirror_mode": {
    "name": "ipython",
    "version": 3
   },
   "file_extension": ".py",
   "mimetype": "text/x-python",
   "name": "python",
   "nbconvert_exporter": "python",
   "pygments_lexer": "ipython3",
   "version": "3.7.6"
  }
 },
 "nbformat": 4,
 "nbformat_minor": 4
}
