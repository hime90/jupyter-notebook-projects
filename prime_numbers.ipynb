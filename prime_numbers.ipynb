{
 "cells": [
  {
   "cell_type": "code",
   "execution_count": null,
   "metadata": {},
   "outputs": [],
   "source": [
    "# # https://en.wikipedia.org/wiki/Sieve_of_Eratosthenes\n",
    "# from math import sqrt\n",
    "# def prime_numbers():\n",
    "    \n",
    "#     while True:\n",
    "#         n = int(input(\"Please enter a number between (2-10000): \"))\n",
    "#         if n >= 2:# and n <= 10000:\n",
    "#             break\n",
    "    \n",
    "#     prime_array = [2] # initialize prime array\n",
    "    \n",
    "#     for i in range (3,(n+1),2): # create an array of numbers from 3 up to n\n",
    "#         k = 1 # initialize counter k\n",
    "#         while k < len(prime_array): # while k is lesser than the length of the prime array\n",
    "#             if i % prime_array[k] == 0: # if the remainder of i divide by the kth element in the prime array = 0\n",
    "#                 break # breaks out of the while loop\n",
    "#             else: \n",
    "#                 k += 1 # else increase k by 1\n",
    "#         else:\n",
    "#             #k == len(prime_array): # if k = to the length of the prime array\n",
    "#             prime_array.append(i) # append i as i is not divisible by the previous prime numbers, thus i is prime\n",
    "    \n",
    "#     #return prime_array # returns the prime number array up to nth term\n",
    "#     print(prime_array) # prints the prime number array up to nth term\n",
    "    \n",
    "# prime_numbers()"
   ]
  },
  {
   "cell_type": "code",
   "execution_count": 3,
   "metadata": {},
   "outputs": [
    {
     "name": "stdout",
     "output_type": "stream",
     "text": [
      "17984\n"
     ]
    }
   ],
   "source": [
    "# version 2\n",
    "from time import time\n",
    "from math import sqrt\n",
    "def is_prime(n):\n",
    "    if n < 2: return False \n",
    "    for i in range(2,int(sqrt(n))+1):\n",
    "        if n % i == 0:\n",
    "            return False\n",
    "    return True\n",
    "\n",
    "def prime_numbers(n):\n",
    "    #start_time = time()\n",
    "    prime_array = [2] # initialize prime array\n",
    "    \n",
    "    for i in range (3,(n+1),2): # create an array of numbers from 3 up to n\n",
    "        if is_prime(i):\n",
    "            prime_array.append(i)\n",
    "            \n",
    "    #end_time = time()\n",
    "    return prime_array#, f'{(end_time-start_time):.6f}s'\n",
    "    \n",
    "print(len(prime_numbers(200000)))"
   ]
  },
  {
   "cell_type": "code",
   "execution_count": 10,
   "metadata": {},
   "outputs": [],
   "source": [
    "# version 3 2020-6-27 14:54:08\n",
    "from time import time\n",
    "from math import sqrt\n",
    "def is_prime(n):\n",
    "    if n < 2: return False \n",
    "    for i in range(2,int(sqrt(n))+1):\n",
    "        if n % i == 0:\n",
    "            return False\n",
    "    return True\n",
    "\n",
    "def prime_numbers_nth(n):\n",
    "    #start_time = time()\n",
    "    prime_array = [2] # initialize prime array\n",
    "    x = 2\n",
    "    while n > len(prime_array):\n",
    "        x += 1\n",
    "        if is_prime(x):\n",
    "            prime_array.append(x)\n",
    "    #end_time = time()\n",
    "    return prime_array[-1]#, f'{(end_time-start_time):.6f}s'"
   ]
  },
  {
   "cell_type": "code",
   "execution_count": 15,
   "metadata": {},
   "outputs": [
    {
     "data": {
      "text/plain": [
       "2750131"
      ]
     },
     "execution_count": 15,
     "metadata": {},
     "output_type": "execute_result"
    }
   ],
   "source": [
    "prime_numbers_nth(199999)"
   ]
  },
  {
   "cell_type": "code",
   "execution_count": 16,
   "metadata": {},
   "outputs": [
    {
     "name": "stdout",
     "output_type": "stream",
     "text": [
      "https://en.wikipedia.org/wiki/Sieve_of_Eratosthenes\n"
     ]
    }
   ],
   "source": [
    "sieveoferatosthenes_wiki = 'https://en.wikipedia.org/wiki/Sieve_of_Eratosthenes'\n",
    "\n",
    "print(sieveoferatosthenes_wiki)"
   ]
  },
  {
   "cell_type": "code",
   "execution_count": null,
   "metadata": {},
   "outputs": [],
   "source": []
  }
 ],
 "metadata": {
  "kernelspec": {
   "display_name": "Python 3",
   "language": "python",
   "name": "python3"
  },
  "language_info": {
   "codemirror_mode": {
    "name": "ipython",
    "version": 3
   },
   "file_extension": ".py",
   "mimetype": "text/x-python",
   "name": "python",
   "nbconvert_exporter": "python",
   "pygments_lexer": "ipython3",
   "version": "3.7.6"
  }
 },
 "nbformat": 4,
 "nbformat_minor": 4
}
