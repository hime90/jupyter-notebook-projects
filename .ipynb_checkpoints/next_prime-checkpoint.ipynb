{
 "cells": [
  {
   "cell_type": "code",
   "execution_count": 37,
   "metadata": {},
   "outputs": [],
   "source": [
    "# https://en.wikipedia.org/wiki/Sieve_of_Eratosthenes\n",
    "def prime_numbers(n):\n",
    "    \n",
    "    prime_array = [2] # initialize prime array\n",
    "    \n",
    "    for i in range (3,n+1,2): # create an array of numbers from 3 up to n\n",
    "        k = 1 # initialize counter k\n",
    "        while k < len(prime_array): # while k is lesser than the length of the prime array\n",
    "            if i % prime_array[k] == 0: # if the remainder of i divide by the kth element in the prime array = 0\n",
    "                break # breaks out of the while loop\n",
    "            else: \n",
    "                k += 1 # else increase k by 1\n",
    "        else:\n",
    "            #k == len(prime_array): # if k = to the length of the prime array\n",
    "            prime_array.append(i) # append i as i is not divisible by the previous prime numbers, thus i is prime\n",
    "    \n",
    "    #return prime_array # returns the prime number array up to nth term\n",
    "    return prime_array[-1] # prints the prime number array up to nth term\n",
    "\n",
    "def next_prime():\n",
    "    n = 2\n",
    "    current = prime_numbers(n)\n",
    "    # print first prime number\n",
    "    print(current)\n",
    "    # ask user continue to next prime?\n",
    "    while True:\n",
    "        cont = input('Continue? Y/N : ').casefold()\n",
    "        #if continue, print next prime number\n",
    "        if cont == 'y':\n",
    "            while prime_numbers(n) == current:\n",
    "                n += 1\n",
    "            current = prime_numbers(n)\n",
    "            print(current)\n",
    "        elif cont == 'n':\n",
    "            print('Thanks for using!')\n",
    "            break\n",
    "        else:\n",
    "            print('Invalid Input!')\n",
    "            continue"
   ]
  },
  {
   "cell_type": "code",
   "execution_count": 38,
   "metadata": {},
   "outputs": [
    {
     "name": "stdout",
     "output_type": "stream",
     "text": [
      "2\n",
      "Continue? Y/N : e\n",
      "Invalid Input!\n",
      "Continue? Y/N : e\n",
      "Invalid Input!\n",
      "Continue? Y/N : e\n",
      "Invalid Input!\n",
      "Continue? Y/N : e\n",
      "Invalid Input!\n",
      "Continue? Y/N : y\n",
      "3\n",
      "Continue? Y/N : y\n",
      "5\n",
      "Continue? Y/N : y\n",
      "7\n",
      "Continue? Y/N : n\n",
      "Thanks for using!\n"
     ]
    }
   ],
   "source": [
    "next_prime()"
   ]
  },
  {
   "cell_type": "code",
   "execution_count": null,
   "metadata": {},
   "outputs": [],
   "source": []
  }
 ],
 "metadata": {
  "kernelspec": {
   "display_name": "Python 3",
   "language": "python",
   "name": "python3"
  },
  "language_info": {
   "codemirror_mode": {
    "name": "ipython",
    "version": 3
   },
   "file_extension": ".py",
   "mimetype": "text/x-python",
   "name": "python",
   "nbconvert_exporter": "python",
   "pygments_lexer": "ipython3",
   "version": "3.7.6"
  }
 },
 "nbformat": 4,
 "nbformat_minor": 4
}
