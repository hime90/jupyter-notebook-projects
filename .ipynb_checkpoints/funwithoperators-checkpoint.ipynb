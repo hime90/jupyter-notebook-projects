{
 "cells": [
  {
   "cell_type": "code",
   "execution_count": 4,
   "metadata": {},
   "outputs": [],
   "source": [
    "# just some kata on codewars that is quite interesting to me. there's other kinds of solution by using the \"eval\" function too\n",
    "import operator\n",
    "def zero(x = None): return 0 if x == None else x[0](0, x[1])\n",
    "def one(x = None): return 1 if x == None else x[0](1, x[1])\n",
    "def two(x = None): return 2 if x == None else x[0](2, x[1])\n",
    "def three(x = None): return 3 if x == None else x[0](3, x[1])\n",
    "def four(x = None): return 4 if x == None else x[0](4, x[1])\n",
    "def five(x = None): return 5 if x == None else x[0](5, x[1])\n",
    "def six(x = None): return 6 if x == None else x[0](6, x[1])\n",
    "def seven(x = None): return 7 if x == None else x[0](7, x[1])\n",
    "def eight(x = None): return 8 if x == None else x[0](8, x[1])\n",
    "def nine(x = None): return 9 if x == None else x[0](9, x[1])\n",
    "\n",
    "def plus(x): return [operator.add, x]\n",
    "def minus(x): return [operator.sub, x]\n",
    "def times(x): return [operator.mul, x]\n",
    "def divided_by(x): return [operator.floordiv, x]"
   ]
  },
  {
   "cell_type": "code",
   "execution_count": 5,
   "metadata": {},
   "outputs": [
    {
     "data": {
      "text/plain": [
       "81"
      ]
     },
     "execution_count": 5,
     "metadata": {},
     "output_type": "execute_result"
    }
   ],
   "source": [
    "nine(times(nine()))"
   ]
  },
  {
   "cell_type": "code",
   "execution_count": null,
   "metadata": {},
   "outputs": [],
   "source": []
  }
 ],
 "metadata": {
  "kernelspec": {
   "display_name": "Python 3",
   "language": "python",
   "name": "python3"
  },
  "language_info": {
   "codemirror_mode": {
    "name": "ipython",
    "version": 3
   },
   "file_extension": ".py",
   "mimetype": "text/x-python",
   "name": "python",
   "nbconvert_exporter": "python",
   "pygments_lexer": "ipython3",
   "version": "3.7.6"
  }
 },
 "nbformat": 4,
 "nbformat_minor": 4
}
