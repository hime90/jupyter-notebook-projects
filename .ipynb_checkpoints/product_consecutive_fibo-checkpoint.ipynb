{
 "cells": [
  {
   "cell_type": "code",
   "execution_count": 3,
   "metadata": {},
   "outputs": [
    {
     "data": {
      "text/plain": [
       "[8, 13, False]"
      ]
     },
     "execution_count": 3,
     "metadata": {},
     "output_type": "execute_result"
    }
   ],
   "source": [
    "# Fibo seq = F(n) = F(n-1) + F(n-2) with F(0) = 0 and F(1) = 1.\n",
    "def productFib(prod):\n",
    "    \n",
    "    j, k = 0, 1 # initializing first two numbers with tuple assignment\n",
    "    \n",
    "    while j * k < prod: # while j * k is lesser than the desired prod value\n",
    "        \n",
    "        j, k = k, j + k # assign k to j, and j + k (next fibo term) to k\n",
    "        \n",
    "    return [j, k, prod == j * k] # when broken out of while loop, check if prod is equal or greater than j * k, \n",
    "                                 # return appropriate boolean\n",
    "\n",
    "productFib(100)"
   ]
  },
  {
   "cell_type": "code",
   "execution_count": null,
   "metadata": {},
   "outputs": [],
   "source": []
  },
  {
   "cell_type": "code",
   "execution_count": 6,
   "metadata": {},
   "outputs": [
    {
     "name": "stdout",
     "output_type": "stream",
     "text": [
      "https://en.wikipedia.org/wiki/Fibonacci_number\n"
     ]
    }
   ],
   "source": [
    "fibolink = 'https://en.wikipedia.org/wiki/Fibonacci_number'\n",
    "\n",
    "print(fibolink)"
   ]
  },
  {
   "cell_type": "code",
   "execution_count": 5,
   "metadata": {},
   "outputs": [
    {
     "name": "stdout",
     "output_type": "stream",
     "text": [
      "fibo array: [0, 1]\n",
      "fibo product: [0]\n",
      "fibo array: [0, 1, 1]\n",
      "fibo product: [0, 1]\n",
      "fibo array: [0, 1, 1, 2]\n",
      "fibo product: [0, 1, 2]\n",
      "fibo array: [0, 1, 1, 2, 3]\n",
      "fibo product: [0, 1, 2, 6]\n",
      "fibo array: [0, 1, 1, 2, 3, 5]\n",
      "fibo product: [0, 1, 2, 6, 15]\n",
      "fibo array: [0, 1, 1, 2, 3, 5, 8]\n",
      "fibo product: [0, 1, 2, 6, 15, 40]\n",
      "fibo array: [0, 1, 1, 2, 3, 5, 8, 13]\n",
      "fibo product: [0, 1, 2, 6, 15, 40, 104]\n"
     ]
    },
    {
     "data": {
      "text/plain": [
       "[8, 13, False]"
      ]
     },
     "execution_count": 5,
     "metadata": {},
     "output_type": "execute_result"
    }
   ],
   "source": [
    "# more elaborated mechanics\n",
    "def productFib2(prod):\n",
    "    \n",
    "    if prod == 0: return [0,1,True]\n",
    "    \n",
    "    def fibo(n):\n",
    "        fibo_arr = [0,1]\n",
    "        for i in range(2,n):\n",
    "            fibo_arr.append(fibo_arr[i-2]+fibo_arr[i-1])\n",
    "        return fibo_arr\n",
    "\n",
    "    def fibo_pro(fibo_arr):\n",
    "        return [fibo_arr[i-1]*fibo_arr[i] for i in range(1,n)]\n",
    "        \n",
    "    fibo_array = [0]\n",
    "    fibo_product = [0]\n",
    "    n = 1  \n",
    "    \n",
    "    while max(fibo_product) < prod:\n",
    "        n += 1\n",
    "        fibo_array = fibo(n)\n",
    "        print(f'fibo array: {fibo_array}')\n",
    "        fibo_product = fibo_pro(fibo_array)\n",
    "        print(f'fibo product: {fibo_product}')\n",
    "    \n",
    "    if max(fibo_product) == prod:\n",
    "        return [fibo_array[-2],fibo_array[-1],True]\n",
    "    else:\n",
    "        return [fibo_array[-2],fibo_array[-1],False]\n",
    "    \n",
    "productFib2(100)"
   ]
  },
  {
   "cell_type": "code",
   "execution_count": null,
   "metadata": {},
   "outputs": [],
   "source": []
  }
 ],
 "metadata": {
  "kernelspec": {
   "display_name": "Python 3",
   "language": "python",
   "name": "python3"
  },
  "language_info": {
   "codemirror_mode": {
    "name": "ipython",
    "version": 3
   },
   "file_extension": ".py",
   "mimetype": "text/x-python",
   "name": "python",
   "nbconvert_exporter": "python",
   "pygments_lexer": "ipython3",
   "version": "3.7.6"
  }
 },
 "nbformat": 4,
 "nbformat_minor": 4
}
