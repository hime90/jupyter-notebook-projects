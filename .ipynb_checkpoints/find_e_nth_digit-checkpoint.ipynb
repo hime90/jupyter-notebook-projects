{
 "cells": [
  {
   "cell_type": "code",
   "execution_count": 5,
   "metadata": {},
   "outputs": [
    {
     "name": "stdout",
     "output_type": "stream",
     "text": [
      "Please enter a number between 0-1000: 1000\n",
      "2.718281828459045201125521636727883696953585814606933036203741952151812089401264934788843986429630259951878131581292169224619182987380399530814187377828074954805477669269896831942543549131704490554726551802215545201329334683030246344901144497349287628722222056303503277536494002470852295085934117137151829699462616422689608196348933529343889530635828587207554916045142036836403092325760187330318964170104917168395687491492743754961200833534767500604761262897476527499436531168562971960725769696296030531044399295695281732840252367844059928419994551095567345462268605810633339993886665660763305859363154319087565093686663093890218572553372054773304544947495059165594488893997302540575001585636509812976405100810451564718281986755946188179722159105862669661697169047509147587606348407760951368235431541771912214278615311988416308117397433605110611825152004848778391088957731491095436828978842453596225456740739472450842566536772327502389543829439577839879030227331513212890529015870726517382818920805180\n"
     ]
    }
   ],
   "source": [
    "#https://github.com/microice333/Python-projects/blob/master/n_digit_e.py\n",
    "def find_e_to_nth_digit():\n",
    "    \n",
    "    from decimal import Decimal, getcontext\n",
    "    \n",
    "    # create a list of factorials up to n\n",
    "    def factorial(n):\n",
    "        factorials = [1]\n",
    "        for i in range(1, n + 1):\n",
    "            factorials.append(factorials[i - 1] * i)\n",
    "        return factorials\n",
    "    \n",
    "    # computing e\n",
    "    # find e to nth digit by brothers' formulae: \n",
    "    # http://www.intmath.com/exponential-logarithmic-functions/calculating-e.php\n",
    "    def compute_e(n):\n",
    "        getcontext().prec = n + 1\n",
    "        e = 2\n",
    "        factorials = factorial(2 * n + 1)\n",
    "        for i in range(1, n + 1):\n",
    "            numerator = 2 * i + 2\n",
    "            denominator = factorials[2 * i + 1]\n",
    "            e += Decimal(numerator / denominator)\n",
    "        return e\n",
    "    \n",
    "    # get desired nth digit from 0 to 1000\n",
    "    while True:\n",
    "        n = int(input(\"Please enter a number between 0-1000: \"))\n",
    "        if n >= 0 and n <= 1000:\n",
    "            break\n",
    "    \n",
    "    #compute and print nth digit of e\n",
    "    print(str(compute_e(n))[:n + 1])\n",
    "\n",
    "find_e_to_nth_digit()"
   ]
  },
  {
   "cell_type": "code",
   "execution_count": null,
   "metadata": {},
   "outputs": [],
   "source": []
  },
  {
   "cell_type": "code",
   "execution_count": null,
   "metadata": {},
   "outputs": [],
   "source": [
    "# from decimal import Decimal and getcontext\n",
    "from decimal import Decimal, getcontext\n",
    "getcontext().prec = 100\n",
    "str(Decimal(1) / Decimal(7))\n",
    "# calculate the significant digits from getcontext().prec"
   ]
  },
  {
   "cell_type": "code",
   "execution_count": null,
   "metadata": {},
   "outputs": [],
   "source": [
    "# find e to nth digit by brothers' formulae: \n",
    "# http://www.intmath.com/exponential-logarithmic-functions/calculating-e.php\n",
    "#https://github.com/microice333/Python-projects/blob/master/n_digit_e.py\n",
    "import decimal\n",
    "\n",
    "\n",
    "def factorial(n):\n",
    "    factorials = [1]\n",
    "    for i in range(1, n + 1):\n",
    "        factorials.append(factorials[i - 1] * i)\n",
    "    return factorials\n",
    "\n",
    "\n",
    "def compute_e(n):\n",
    "    decimal.getcontext().prec = n + 1\n",
    "    e = 2\n",
    "    factorials = factorial(2 * n + 1)\n",
    "    for i in range(1, n + 1):\n",
    "        counter = 2 * i + 2\n",
    "        denominator = factorials[2 * i + 1]\n",
    "        e += decimal.Decimal(counter / denominator)\n",
    "    return e\n",
    "\n",
    "\n",
    "while True:\n",
    "    n = int(input(\"Please enter a number between 0-1000: \"))\n",
    "    if n >= 0 and n <= 1000:\n",
    "        break\n",
    "\n",
    "print(str(compute_e(n))[:n + 1])"
   ]
  },
  {
   "cell_type": "code",
   "execution_count": null,
   "metadata": {},
   "outputs": [],
   "source": []
  },
  {
   "cell_type": "code",
   "execution_count": null,
   "metadata": {},
   "outputs": [],
   "source": []
  }
 ],
 "metadata": {
  "kernelspec": {
   "display_name": "Python 3",
   "language": "python",
   "name": "python3"
  },
  "language_info": {
   "codemirror_mode": {
    "name": "ipython",
    "version": 3
   },
   "file_extension": ".py",
   "mimetype": "text/x-python",
   "name": "python",
   "nbconvert_exporter": "python",
   "pygments_lexer": "ipython3",
   "version": "3.7.6"
  }
 },
 "nbformat": 4,
 "nbformat_minor": 4
}
